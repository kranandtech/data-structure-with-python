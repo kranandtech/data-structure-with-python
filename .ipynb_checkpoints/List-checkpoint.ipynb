{
 "cells": [
  {
   "cell_type": "code",
   "execution_count": 2,
   "id": "ea012b8f-3e89-4698-9c40-30631712fcc0",
   "metadata": {
    "tags": []
   },
   "outputs": [
    {
     "name": "stdout",
     "output_type": "stream",
     "text": [
      "6.0\n"
     ]
    }
   ],
   "source": [
    "#  Average in a list\n",
    "def avg(l):\n",
    "    sum = 0\n",
    "    for item in l:\n",
    "        sum+= item\n",
    "    n = len(l)\n",
    "    return sum/n;\n",
    "\n",
    "l = [3,6,7,8]\n",
    "print(avg(l))\n",
    "        \n",
    "    "
   ]
  },
  {
   "cell_type": "code",
   "execution_count": 3,
   "id": "23c415f5-16b7-44e3-925f-599ad02b268f",
   "metadata": {
    "tags": []
   },
   "outputs": [
    {
     "name": "stdout",
     "output_type": "stream",
     "text": [
      "6.0\n"
     ]
    }
   ],
   "source": [
    "#  Average in a list\n",
    "def avg2(l):\n",
    "    return sum(l)/len(l)\n",
    "l = [3,6,7,8]\n",
    "print(avg(l))"
   ]
  }
 ],
 "metadata": {
  "kernelspec": {
   "display_name": "Python 3 (ipykernel)",
   "language": "python",
   "name": "python3"
  },
  "language_info": {
   "codemirror_mode": {
    "name": "ipython",
    "version": 3
   },
   "file_extension": ".py",
   "mimetype": "text/x-python",
   "name": "python",
   "nbconvert_exporter": "python",
   "pygments_lexer": "ipython3",
   "version": "3.11.2"
  }
 },
 "nbformat": 4,
 "nbformat_minor": 5
}
