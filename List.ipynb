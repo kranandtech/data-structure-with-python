{
 "cells": [
  {
   "cell_type": "code",
   "execution_count": 13,
   "id": "08747757-bcef-49b2-a6f5-392cb33fe649",
   "metadata": {
    "tags": []
   },
   "outputs": [
    {
     "name": "stdout",
     "output_type": "stream",
     "text": [
      "[10, 20, 30, 40, 50]\n",
      "40\n",
      "20\n",
      "50\n",
      "40\n"
     ]
    }
   ],
   "source": [
    "# List access\n",
    "l = [10, 20, 30, 40, 50]\n",
    "print(l)\n",
    "print(l[3])\n",
    "print(l[1])\n",
    "print(l[-1])\n",
    "print(l[-2])\n",
    "\n",
    "\n"
   ]
  },
  {
   "cell_type": "code",
   "execution_count": 14,
   "id": "0995357c-40b0-43d2-bb09-72ddb2251052",
   "metadata": {
    "tags": []
   },
   "outputs": [
    {
     "name": "stdout",
     "output_type": "stream",
     "text": [
      "[10, 20, 30, 40, 50, 30]\n",
      "[10, 15, 20, 30, 40, 50, 30]\n",
      "True\n",
      "2\n",
      "3\n"
     ]
    }
   ],
   "source": [
    "# Insert and serach\n",
    "l = [10, 20, 30, 40, 50]\n",
    "l.append(30)\n",
    "print(l)\n",
    "l.insert(1, 15)\n",
    "print(l)\n",
    "print(15 in l)\n",
    "print(l.count(30))\n",
    "print(l.index(30))\n"
   ]
  },
  {
   "cell_type": "code",
   "execution_count": 15,
   "id": "2e0ab852-5b03-400f-b016-b7315f0cf4f2",
   "metadata": {
    "tags": []
   },
   "outputs": [
    {
     "name": "stdout",
     "output_type": "stream",
     "text": [
      "[10, 30, 40, 50, 60, 70, 80]\n",
      "80\n",
      "[10, 30, 40, 50, 60, 70]\n",
      "40\n",
      "[10, 30, 50, 60, 70]\n",
      "[10, 50, 60, 70]\n",
      "[60, 70]\n"
     ]
    }
   ],
   "source": [
    "# Remove \n",
    "l = [10, 20, 30, 40, 50, 60, 70, 80]\n",
    "l.remove(20) # .remove  only  remove the value.\n",
    "print(l)\n",
    "print(l.pop()) # .pop return the removal item as output\n",
    "print(l)\n",
    "print(l.pop(2))\n",
    "print(l)\n",
    "del l[1]\n",
    "print(l)\n",
    "del l[0:2]\n",
    "print(l)"
   ]
  },
  {
   "cell_type": "code",
   "execution_count": 16,
   "id": "bbb2c58c-a433-45b5-a3e4-ac117123a21e",
   "metadata": {
    "tags": []
   },
   "outputs": [
    {
     "name": "stdout",
     "output_type": "stream",
     "text": [
      "50\n",
      "10\n",
      "120\n",
      "[50, 20, 40, 10]\n",
      "[10, 20, 40, 50]\n"
     ]
    }
   ],
   "source": [
    "# some general purpose list function\n",
    "l=[10,40,20,50]\n",
    "print(max(l))\n",
    "print(min(l))\n",
    "print(sum(l))\n",
    "l.reverse()\n",
    "print(l)\n",
    "l.sort()\n",
    "print(l)\n"
   ]
  },
  {
   "cell_type": "code",
   "execution_count": 2,
   "id": "ea012b8f-3e89-4698-9c40-30631712fcc0",
   "metadata": {
    "tags": []
   },
   "outputs": [
    {
     "name": "stdout",
     "output_type": "stream",
     "text": [
      "6.0\n"
     ]
    }
   ],
   "source": [
    "#  Average in a list\n",
    "def avg(l):\n",
    "    sum = 0\n",
    "    for item in l:\n",
    "        sum+= item\n",
    "    n = len(l)\n",
    "    return sum/n;\n",
    "\n",
    "l = [3,6,7,8]\n",
    "print(avg(l))\n",
    "        \n",
    "    "
   ]
  },
  {
   "cell_type": "code",
   "execution_count": 3,
   "id": "23c415f5-16b7-44e3-925f-599ad02b268f",
   "metadata": {
    "tags": []
   },
   "outputs": [
    {
     "name": "stdout",
     "output_type": "stream",
     "text": [
      "6.0\n"
     ]
    }
   ],
   "source": [
    "#  Average in a list\n",
    "def avg2(l):\n",
    "    return sum(l)/len(l)\n",
    "l = [3,6,7,8]\n",
    "print(avg(l))"
   ]
  },
  {
   "cell_type": "code",
   "execution_count": 4,
   "id": "c39039ac-d6fb-4b20-a458-01ea8065a41c",
   "metadata": {
    "tags": []
   },
   "outputs": [
    {
     "name": "stdout",
     "output_type": "stream",
     "text": [
      "[2, 6, 8]\n",
      "[5, 7]\n"
     ]
    }
   ],
   "source": [
    "# Separate even and odd\n",
    "def sepEvenOdd(l):\n",
    "    even=[]\n",
    "    odd=[]\n",
    "    for x in l:\n",
    "        if x%2==0:\n",
    "            even.append(x)\n",
    "        else:\n",
    "            odd.append(x)\n",
    "    return even,odd\n",
    "l = [2,5,7,6,8]\n",
    "even,odd = sepEvenOdd(l)\n",
    "print(even)\n",
    "print(odd)"
   ]
  },
  {
   "cell_type": "code",
   "execution_count": 9,
   "id": "ff3200ed-8480-4dbc-a317-0971544ab4af",
   "metadata": {
    "tags": []
   },
   "outputs": [
    {
     "name": "stdout",
     "output_type": "stream",
     "text": [
      "[4, 5]\n"
     ]
    }
   ],
   "source": [
    "# Get smaller element\n",
    "def smallerElem(l,x):\n",
    "    res=[]\n",
    "    for item in l:\n",
    "        if item <x:\n",
    "            res.append(item)\n",
    "    return res\n",
    "l = [4,6,5,8,7,9]\n",
    "x = 6\n",
    "print(smallerElem(l,x))"
   ]
  },
  {
   "cell_type": "code",
   "execution_count": 11,
   "id": "131ab020-f618-4117-a99d-67e4a09f88b2",
   "metadata": {
    "tags": []
   },
   "outputs": [
    {
     "name": "stdout",
     "output_type": "stream",
     "text": [
      "l[0:5:2] [10, 30, 50]\n",
      "l[:4] [10, 20, 30, 40]\n",
      "l[2:] [30, 40, 50]\n",
      "l[1:4] [20, 30, 40]\n",
      "l[4:1:-1] [50, 40, 30]\n",
      "l[-1:-6:-1] [50, 40, 30, 20, 10]\n",
      "l[::-1] [50, 40, 30, 20, 10]\n",
      "l[0:5] [10, 20, 30, 40, 50]\n",
      "l[:] [10, 20, 30, 40, 50]\n"
     ]
    }
   ],
   "source": [
    "# List Slicing\n",
    "l = [10,20,30,40,50]\n",
    "\n",
    "print(\"l[0:5:2]\",l[0:5:2])     # start:0, stop:5, step:2\n",
    "\n",
    "print(\"l[:4]\",l[:4])        # start: 0, stop:4, step:1\n",
    "\n",
    "print(\"l[2:]\",l[2:])        # start:2,  stop:end of string, step:1\n",
    "\n",
    "print(\"l[1:4]\",l[1:4])\n",
    "\n",
    "print(\"l[4:1:-1]\",l[4:1:-1])    #start:4, stop:1,step:-1\n",
    "\n",
    "print(\"l[-1:-6:-1]\",l[-1:-6:-1])  # start:end,\n",
    "\n",
    "print(\"l[::-1]\",l[::-1])\n",
    "\n",
    "print(\"l[0:5]\",l[0:5])\n",
    "\n",
    "print(\"l[:]\",l[:])\n"
   ]
  },
  {
   "cell_type": "code",
   "execution_count": 12,
   "id": "f8850bb6-736e-4dc5-9bb8-871b7597a99e",
   "metadata": {
    "tags": []
   },
   "outputs": [
    {
     "name": "stdout",
     "output_type": "stream",
     "text": [
      "False\n",
      "True\n",
      "True\n"
     ]
    }
   ],
   "source": [
    "# Slicing\n",
    "l1 = [10,20,30]\n",
    "\n",
    "l2 = l1[:]\n",
    "\n",
    "t1 = (10,20,30)\n",
    "\n",
    "t2 = t1[:]          # tuple having same element has same id\n",
    "\n",
    "s1 = \"geeks\"\n",
    "s2 = s1[:]          # string of same value have same id\n",
    "\n",
    "print(l1 is l2)\n",
    "\n",
    "print(t1 is t2)\n",
    "\n",
    "print(s1 is s2)"
   ]
  },
  {
   "cell_type": "code",
   "execution_count": 17,
   "id": "695b0c48-46c6-4643-9e8b-a5a60234bf14",
   "metadata": {
    "tags": []
   },
   "outputs": [
    {
     "name": "stdout",
     "output_type": "stream",
     "text": [
      "[0, 2, 4, 6, 8, 10]\n",
      "[1, 3, 5, 7, 9]\n"
     ]
    }
   ],
   "source": [
    "# list comprehension\n",
    "l1 = [x for x in range(11) if x%2==0]\n",
    "\n",
    "print(l1)\n",
    "\n",
    "l2 = [x for x in range(11) if x%2!=0]\n",
    "\n",
    "print(l2)\n"
   ]
  },
  {
   "cell_type": "code",
   "execution_count": 18,
   "id": "30c073e8-114b-4898-837f-f1f9b778f705",
   "metadata": {
    "tags": []
   },
   "outputs": [
    {
     "name": "stdout",
     "output_type": "stream",
     "text": [
      "{10, 4, 20}\n",
      "{3, 7}\n",
      "{0: 'ID0', 1: 'ID1', 2: 'ID2', 3: 'ID3', 4: 'ID4'}\n",
      "{101: 'gfg', 103: 'ide', 102: 'corse'}\n",
      "{101: 'gfg', 103: 'ide', 102: 'corse'}\n"
     ]
    }
   ],
   "source": [
    "# Set,dict comprehensio\n",
    "l = {10,20,3,4,10,20,7,3}\n",
    "\n",
    "s1 = {x for x in l if x%2==0 }\n",
    "s2 = {x for x in l if x%2!=0 }  # set comprehension\n",
    "\n",
    "print(s1)\n",
    "print(s2)\n",
    "\n",
    "\n",
    "l1 = [1,3,4,2,5]\n",
    "\n",
    "d1 = {x:x**3 for x in l1}\n",
    "\n",
    "d2 = {x:f\"ID{x}\" for x in range(5)} # dictionary comprehension\n",
    "print(d2)\n",
    "\n",
    "\n",
    "l2 = [101,103,102]\n",
    "l3 = ['gfg','ide','corse']\n",
    "\n",
    "d3 = {l2[i]:l3[i] for i in range(len(l2)) }   # dictionary comprehension\n",
    "\n",
    "print(d3)\n",
    "\n",
    "\n",
    "d4 = dict(zip(l2,l3))\n",
    "\n",
    "print(d4)\n",
    "\n",
    "\n",
    "\n",
    "\n",
    "\n"
   ]
  },
  {
   "cell_type": "code",
   "execution_count": null,
   "id": "7de0ec3a-b3c1-482e-9754-9fd06191bb40",
   "metadata": {},
   "outputs": [],
   "source": [
    "# Inverting dict\n",
    "d1 = {101:'gfg',103:'practice',102:'ide'}\n",
    "d2 = {v:k for (k,v) in d1.items() }\n",
    "\n",
    "print(d2)"
   ]
  }
 ],
 "metadata": {
  "kernelspec": {
   "display_name": "Python 3 (ipykernel)",
   "language": "python",
   "name": "python3"
  },
  "language_info": {
   "codemirror_mode": {
    "name": "ipython",
    "version": 3
   },
   "file_extension": ".py",
   "mimetype": "text/x-python",
   "name": "python",
   "nbconvert_exporter": "python",
   "pygments_lexer": "ipython3",
   "version": "3.9.13"
  }
 },
 "nbformat": 4,
 "nbformat_minor": 5
}
